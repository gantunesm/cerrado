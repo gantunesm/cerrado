{
 "cells": [
  {
   "cell_type": "code",
   "execution_count": 2,
   "id": "0a5c466f",
   "metadata": {},
   "outputs": [],
   "source": [
    "import cerrado\n"
   ]
  },
  {
   "cell_type": "code",
   "execution_count": null,
   "id": "955d1ccf",
   "metadata": {},
   "outputs": [],
   "source": []
  },
  {
   "cell_type": "code",
   "execution_count": 37,
   "id": "71277df4",
   "metadata": {},
   "outputs": [],
   "source": [
    "\n",
    "def rgb_to_color_name(rgb_tuple):\n",
    "    try:\n",
    "        closest_color = webcolors.rgb_to_name(rgb_tuple)\n",
    "        return closest_color\n",
    "    except ValueError:\n",
    "        return \"Unknown\"\n",
    "\n",
    "def get_dominant_colors(image_path, num_colors=6):\n",
    "    # Open the image\n",
    "    img = Image.open(image_path)\n",
    "    \n",
    "    # Convert the image to RGB mode (in case it's not)\n",
    "    img = img.convert(\"RGB\")\n",
    "    \n",
    "    # Resize the image for faster processing (optional)\n",
    "#     img = img.resize((100, 100))\n",
    "    \n",
    "    # Convert the image to a numpy array\n",
    "    img_array = np.array(img)\n",
    "    \n",
    "    # Reshape the array to be a list of pixels\n",
    "    pixels = img_array.reshape(-1, 3)\n",
    "    \n",
    "    # Perform KMeans clustering\n",
    "    kmeans = KMeans(n_clusters=num_colors, random_state=0).fit(pixels)\n",
    "    \n",
    "    # Get the cluster centers (dominant colors)\n",
    "    dominant_colors = kmeans.cluster_centers_\n",
    "    \n",
    "    # Convert dominant colors to integer values\n",
    "    dominant_colors = dominant_colors.astype(int)\n",
    "    \n",
    "    # Count occurrences of each dominant color\n",
    "    color_counts = Counter(tuple(color) for color in dominant_colors)\n",
    "    \n",
    "    # Sort the colors by frequency\n",
    "    sorted_colors = sorted(color_counts, key=lambda x: color_counts[x], reverse=True)\n",
    "    \n",
    "    return sorted_colors\n",
    "\n",
    "\n",
    "\n",
    "def rgb_to_hex(rgb_tuple):\n",
    "    return \"#{:02x}{:02x}{:02x}\".format(*rgb_tuple)\n"
   ]
  },
  {
   "cell_type": "code",
   "execution_count": 39,
   "id": "a092d944",
   "metadata": {},
   "outputs": [
    {
     "name": "stdout",
     "output_type": "stream",
     "text": [
      "Dominant colors:\n",
      "Color 1: #423d2a\n",
      "Color 2: #ce9461\n",
      "Color 3: #19568b\n",
      "Color 4: #15180f\n",
      "Color 5: #6c728b\n",
      "Color 6: #846a3b\n"
     ]
    },
    {
     "data": {
      "image/png": "[encoded data removed]",
      "text/plain": [
       "<Figure size 576x144 with 1 Axes>"
      ]
     },
     "metadata": {
      "needs_background": "light"
     },
     "output_type": "display_data"
    }
   ],
   "source": [
    "\n",
    "\n",
    "test= '/home/gabriela/Documents/Pesquisa/cerrado/docs/images/chuveirinho.png'\n",
    "num_colors = 6\n",
    "\n",
    "dominant_colors = get_dominant_colors(test, num_colors)\n",
    "\n",
    "color_hex_names = []\n",
    "for color in dominant_colors:\n",
    "    hex_color = rgb_to_hex(color)\n",
    "    color_name = rgb_to_color_name(tuple(color))\n",
    "    color_hex_names.append((hex_color))\n",
    "\n",
    "print(\"Dominant colors:\")\n",
    "for i, (hex_color) in enumerate(color_hex_names):\n",
    "    print(f\"Color {i+1}: {hex_color}\")\n",
    "\n",
    "color_palette = create_color_palette(dominant_colors)\n",
    "\n",
    "# Plot the dominant colors\n",
    "plt.figure(figsize=(8, 2))\n",
    "plt.imshow([color_palette], aspect='auto')\n",
    "plt.axis('off')\n",
    "plt.title('Dominant Color Palette')\n",
    "plt.show()\n",
    "\n",
    "\n",
    "#save output colors to the file:\n",
    "# /home/gabriela/Documents/Pesquisa/cerrado/cerrado/data/pallets/6colors.csv"
   ]
  },
  {
   "cell_type": "code",
   "execution_count": 40,
   "id": "aa03be83",
   "metadata": {},
   "outputs": [],
   "source": [
    "# color_hex_names"
   ]
  }
 ],
 "metadata": {
  "kernelspec": {
   "display_name": "Python 3",
   "language": "python",
   "name": "python3"
  },
  "language_info": {
   "codemirror_mode": {
    "name": "ipython",
    "version": 3
   },
   "file_extension": ".py",
   "mimetype": "text/x-python",
   "name": "python",
   "nbconvert_exporter": "python",
   "pygments_lexer": "ipython3",
   "version": "3.8.8"
  }
 },
 "nbformat": 4,
 "nbformat_minor": 5
}
